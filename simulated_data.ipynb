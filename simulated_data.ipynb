{
 "cells": [
  {
   "cell_type": "code",
   "execution_count": 1,
   "metadata": {},
   "outputs": [],
   "source": [
    "import os\n",
    "os.environ[\"HDF5_USE_FILE_LOCKING\"] = \"FALSE\"\n",
    "import scanpy as sc\n",
    "import numpy as np\n",
    "import matplotlib.pyplot as plt"
   ]
  },
  {
   "cell_type": "code",
   "execution_count": 2,
   "metadata": {},
   "outputs": [
    {
     "data": {
      "text/plain": [
       "AnnData object with n_obs × n_vars = 1000 × 1000\n",
       "    obs: 'Cell', 'Batch', 'Group', 'ExpLibSize', 'sizeFactor'\n",
       "    var: 'Gene', 'BaseGeneMean', 'OutlierFactor', 'GeneMean', 'DEFacGroup1', 'DEFacGroup2', 'DEFacGroup3', 'DEFacGroup4', 'DEFacGroup5', 'DEFacGroup6'"
      ]
     },
     "execution_count": 2,
     "metadata": {},
     "output_type": "execute_result"
    }
   ],
   "source": [
    "sim = sc.read('sim_data.h5ad')\n",
    "sim"
   ]
  },
  {
   "cell_type": "code",
   "execution_count": 3,
   "metadata": {},
   "outputs": [],
   "source": [
    "sim.obs['Group'] = sim.obs['Group'].astype('category')\n",
    "\n",
    "sim.obs['y'] = sim.obs['Group'].cat.codes\n",
    "\n",
    "sim.obs['label'] = sim.obs['y'].astype('category')"
   ]
  },
  {
   "cell_type": "code",
   "execution_count": 4,
   "metadata": {},
   "outputs": [
    {
     "data": {
      "text/plain": [
       "Index(['Gene1', 'Gene2', 'Gene3', 'Gene4', 'Gene5', 'Gene6', 'Gene7', 'Gene8',\n",
       "       'Gene9', 'Gene10',\n",
       "       ...\n",
       "       'Gene991', 'Gene992', 'Gene993', 'Gene994', 'Gene995', 'Gene996',\n",
       "       'Gene997', 'Gene998', 'Gene999', 'Gene1000'],\n",
       "      dtype='object', length=1000)"
      ]
     },
     "execution_count": 4,
     "metadata": {},
     "output_type": "execute_result"
    }
   ],
   "source": [
    "sim.var_names"
   ]
  },
  {
   "cell_type": "code",
   "execution_count": 5,
   "metadata": {},
   "outputs": [],
   "source": [
    "# import random\n",
    "# import math\n",
    "# random.seed(11)\n",
    "# def generate_unique_coordinates(num_points,r_min,r_max):\n",
    "#     coordinates = set()\n",
    "\n",
    "#     while len(coordinates) < num_points:\n",
    "#         # 生成随机角度\n",
    "#         theta = random.uniform(0, math.pi / 2)\n",
    "#         # 生成随机半径\n",
    "#         r = random.uniform(r_min, r_max)\n",
    "#         # 计算坐标\n",
    "#         x = int(r * math.cos(theta))\n",
    "#         y = int(r * math.sin(theta))\n",
    "#         if np.sqrt(x**2 + y**2)>=r_min and np.sqrt(x**2 + y**2)<r_max:\n",
    "#         # 将坐标添加到集合中，确保不重复\n",
    "#             coordinates.add((x, y))\n",
    "#     print(1)\n",
    "#     return np.array(list(coordinates))\n",
    "\n",
    "# # 生成不重复的坐标\n",
    "# coordinates1 = generate_unique_coordinates(sim[sim.obs['Group'] == 'Group1', :].shape[0], 0, 17)\n",
    "# coordinates2=  generate_unique_coordinates(sim[sim.obs['Group'] == 'Group2', :].shape[0], 17, 24)\n",
    "# coordinates3=  generate_unique_coordinates(sim[sim.obs['Group'] == 'Group3', :].shape[0], 24, 27)\n",
    "# coordinates4=  generate_unique_coordinates(sim[sim.obs['Group'] == 'Group4', :].shape[0], 27, 32)\n",
    "# coordinates5=  generate_unique_coordinates(sim[sim.obs['Group'] == 'Group5', :].shape[0], 32, 36)\n",
    "# coordinates6=  generate_unique_coordinates(sim[sim.obs['Group'] == 'Group6', :].shape[0], 36, 39)\n"
   ]
  },
  {
   "cell_type": "code",
   "execution_count": 6,
   "metadata": {},
   "outputs": [
    {
     "name": "stdout",
     "output_type": "stream",
     "text": [
      "1\n",
      "1\n",
      "1\n",
      "1\n",
      "1\n",
      "1\n"
     ]
    }
   ],
   "source": [
    "import random\n",
    "import math\n",
    "random.seed(1)\n",
    "\n",
    "def generate_unique_coordinates_1(num_points,intercept_min,intercept_max):\n",
    "    coordinates = set()\n",
    "\n",
    "    while len(coordinates) < num_points:\n",
    "        x = int(random.uniform(0, intercept_max))\n",
    "        y = int(random.uniform(0, intercept_max))\n",
    "\n",
    "        if x+y>=intercept_min and x+y<intercept_max:\n",
    "        # 将坐标添加到集合中，确保不重复\n",
    "            coordinates.add((x, y))\n",
    "    print(1)\n",
    "    return np.array(list(coordinates))\n",
    "\n",
    "\n",
    "\n",
    "coordinates1 = generate_unique_coordinates_1(sim[sim.obs['Group'] == 'Group1', :].shape[0], 0, 21)\n",
    "coordinates2 = generate_unique_coordinates_1(sim[sim.obs['Group'] == 'Group2', :].shape[0], 21, 30)\n",
    "coordinates3 = generate_unique_coordinates_1(sim[sim.obs['Group'] == 'Group3', :].shape[0], 30, 33)\n",
    "coordinates4 = generate_unique_coordinates_1(sim[sim.obs['Group'] == 'Group4', :].shape[0], 33, 40)\n",
    "coordinates5 = generate_unique_coordinates_1(sim[sim.obs['Group'] == 'Group5', :].shape[0], 40, 44)\n",
    "coordinates6 = generate_unique_coordinates_1(sim[sim.obs['Group'] == 'Group6', :].shape[0], 44, 48)"
   ]
  },
  {
   "cell_type": "code",
   "execution_count": 7,
   "metadata": {},
   "outputs": [],
   "source": [
    "sim.obsm['spatial'] = np.zeros((sim.n_obs, 2))"
   ]
  },
  {
   "cell_type": "code",
   "execution_count": 8,
   "metadata": {},
   "outputs": [],
   "source": [
    "sim.obsm['spatial'][sim.obs['Group'] == 'Group1', :] = coordinates1\n",
    "sim.obsm['spatial'][sim.obs['Group'] == 'Group2', :] = coordinates2\n",
    "sim.obsm['spatial'][sim.obs['Group'] == 'Group3', :] = coordinates3\n",
    "sim.obsm['spatial'][sim.obs['Group'] == 'Group4', :] = coordinates4\n",
    "sim.obsm['spatial'][sim.obs['Group'] == 'Group5', :] = coordinates5\n",
    "sim.obsm['spatial'][sim.obs['Group'] == 'Group6', :] = coordinates6"
   ]
  },
  {
   "cell_type": "code",
   "execution_count": 9,
   "metadata": {},
   "outputs": [
    {
     "data": {
      "text/plain": [
       "array([[ 9., 26.],\n",
       "       [ 7.,  3.],\n",
       "       [14., 17.],\n",
       "       ...,\n",
       "       [ 5.,  2.],\n",
       "       [10.,  2.],\n",
       "       [28.,  0.]])"
      ]
     },
     "execution_count": 9,
     "metadata": {},
     "output_type": "execute_result"
    }
   ],
   "source": [
    "sim.obsm['spatial']"
   ]
  },
  {
   "cell_type": "code",
   "execution_count": 10,
   "metadata": {},
   "outputs": [],
   "source": [
    "# import pandas as pd\n",
    "# from sklearn.preprocessing import OneHotEncoder\n",
    "\n",
    "\n",
    "# # 创建OneHotEncoder对象\n",
    "# encoder = OneHotEncoder(categories=[['Group1', 'Group2', 'Group3', 'Group4', 'Group5', 'Group6']], sparse_output=False)\n",
    "\n",
    "# # 将Group列转换为one-hot编码\n",
    "# one_hot = encoder.fit_transform(sim.obs['Group'].values.reshape(-1, 1))\n",
    "\n",
    "# sim.obsm['Group_onehot']=one_hot"
   ]
  },
  {
   "cell_type": "code",
   "execution_count": 11,
   "metadata": {},
   "outputs": [],
   "source": [
    "from scipy.spatial import distance_matrix\n",
    "\n",
    "spatial_coords = sim.obsm['spatial']\n",
    "\n",
    "# 计算距离矩阵\n",
    "dist_matrix = distance_matrix(spatial_coords, spatial_coords)\n",
    "\n",
    "# 设定距离阈值\n",
    "distance_threshold = 1  # 根据数据集和需要调整此值\n",
    "\n",
    "# 构建邻接矩阵\n",
    "adjacency_matrix = (dist_matrix <= distance_threshold).astype(int)\n",
    "\n",
    "# 将对角线元素设为0（不包括自己）\n",
    "np.fill_diagonal(adjacency_matrix, 0)\n",
    "\n"
   ]
  },
  {
   "cell_type": "code",
   "execution_count": 12,
   "metadata": {},
   "outputs": [
    {
     "data": {
      "text/plain": [
       "(array([  0,   0,   0, ..., 999, 999, 999]),\n",
       " array([287, 478, 668, ..., 319, 460, 525]))"
      ]
     },
     "execution_count": 12,
     "metadata": {},
     "output_type": "execute_result"
    }
   ],
   "source": [
    "adjacency_matrix.nonzero()"
   ]
  },
  {
   "cell_type": "code",
   "execution_count": 13,
   "metadata": {},
   "outputs": [],
   "source": [
    "sim.obsp['adjacency_matrix']=adjacency_matrix\n"
   ]
  },
  {
   "cell_type": "code",
   "execution_count": 14,
   "metadata": {},
   "outputs": [
    {
     "data": {
      "image/png": "[encoded data removed]",
      "text/plain": [
       "<Figure size 640x480 with 1 Axes>"
      ]
     },
     "metadata": {},
     "output_type": "display_data"
    }
   ],
   "source": [
    "adata_st1 = sim.copy()\n",
    "# 将y坐标取反一次\n",
    "adata_st1.obsm['spatial'][:, 1] = -adata_st1.obsm['spatial'][:, 1]\n",
    "\n",
    "sc.pl.spatial(adata_st1, spot_size=1 ,color='label')"
   ]
  },
  {
   "cell_type": "code",
   "execution_count": 15,
   "metadata": {},
   "outputs": [
    {
     "data": {
      "text/html": [
       "<div>\n",
       "<style scoped>\n",
       "    .dataframe tbody tr th:only-of-type {\n",
       "        vertical-align: middle;\n",
       "    }\n",
       "\n",
       "    .dataframe tbody tr th {\n",
       "        vertical-align: top;\n",
       "    }\n",
       "\n",
       "    .dataframe thead th {\n",
       "        text-align: right;\n",
       "    }\n",
       "</style>\n",
       "<table border=\"1\" class=\"dataframe\">\n",
       "  <thead>\n",
       "    <tr style=\"text-align: right;\">\n",
       "      <th></th>\n",
       "      <th>Cell</th>\n",
       "      <th>Batch</th>\n",
       "      <th>Group</th>\n",
       "      <th>ExpLibSize</th>\n",
       "      <th>sizeFactor</th>\n",
       "      <th>y</th>\n",
       "      <th>label</th>\n",
       "    </tr>\n",
       "  </thead>\n",
       "  <tbody>\n",
       "  </tbody>\n",
       "</table>\n",
       "</div>"
      ],
      "text/plain": [
       "Empty DataFrameView\n",
       "Columns: [Cell, Batch, Group, ExpLibSize, sizeFactor, y, label]\n",
       "Index: []"
      ]
     },
     "execution_count": 15,
     "metadata": {},
     "output_type": "execute_result"
    }
   ],
   "source": [
    "sim[np.all(sim.obsm['spatial']==np.array([11,6]), axis=1)].obs"
   ]
  },
  {
   "cell_type": "code",
   "execution_count": 16,
   "metadata": {},
   "outputs": [
    {
     "data": {
      "text/html": [
       "<div>\n",
       "<style scoped>\n",
       "    .dataframe tbody tr th:only-of-type {\n",
       "        vertical-align: middle;\n",
       "    }\n",
       "\n",
       "    .dataframe tbody tr th {\n",
       "        vertical-align: top;\n",
       "    }\n",
       "\n",
       "    .dataframe thead th {\n",
       "        text-align: right;\n",
       "    }\n",
       "</style>\n",
       "<table border=\"1\" class=\"dataframe\">\n",
       "  <thead>\n",
       "    <tr style=\"text-align: right;\">\n",
       "      <th></th>\n",
       "      <th>Cell</th>\n",
       "      <th>Batch</th>\n",
       "      <th>Group</th>\n",
       "      <th>ExpLibSize</th>\n",
       "      <th>sizeFactor</th>\n",
       "      <th>y</th>\n",
       "      <th>label</th>\n",
       "    </tr>\n",
       "  </thead>\n",
       "  <tbody>\n",
       "    <tr>\n",
       "      <th>Cell1</th>\n",
       "      <td>Cell1</td>\n",
       "      <td>Batch1</td>\n",
       "      <td>Group4</td>\n",
       "      <td>64763.245660</td>\n",
       "      <td>1.064776</td>\n",
       "      <td>3</td>\n",
       "      <td>3</td>\n",
       "    </tr>\n",
       "    <tr>\n",
       "      <th>Cell2</th>\n",
       "      <td>Cell2</td>\n",
       "      <td>Batch1</td>\n",
       "      <td>Group1</td>\n",
       "      <td>59122.282314</td>\n",
       "      <td>0.963867</td>\n",
       "      <td>0</td>\n",
       "      <td>0</td>\n",
       "    </tr>\n",
       "    <tr>\n",
       "      <th>Cell3</th>\n",
       "      <td>Cell3</td>\n",
       "      <td>Batch1</td>\n",
       "      <td>Group3</td>\n",
       "      <td>50145.665841</td>\n",
       "      <td>0.797908</td>\n",
       "      <td>2</td>\n",
       "      <td>2</td>\n",
       "    </tr>\n",
       "    <tr>\n",
       "      <th>Cell4</th>\n",
       "      <td>Cell4</td>\n",
       "      <td>Batch1</td>\n",
       "      <td>Group1</td>\n",
       "      <td>62585.354417</td>\n",
       "      <td>1.008334</td>\n",
       "      <td>0</td>\n",
       "      <td>0</td>\n",
       "    </tr>\n",
       "    <tr>\n",
       "      <th>Cell5</th>\n",
       "      <td>Cell5</td>\n",
       "      <td>Batch1</td>\n",
       "      <td>Group1</td>\n",
       "      <td>65424.974461</td>\n",
       "      <td>1.053324</td>\n",
       "      <td>0</td>\n",
       "      <td>0</td>\n",
       "    </tr>\n",
       "    <tr>\n",
       "      <th>...</th>\n",
       "      <td>...</td>\n",
       "      <td>...</td>\n",
       "      <td>...</td>\n",
       "      <td>...</td>\n",
       "      <td>...</td>\n",
       "      <td>...</td>\n",
       "      <td>...</td>\n",
       "    </tr>\n",
       "    <tr>\n",
       "      <th>Cell996</th>\n",
       "      <td>Cell996</td>\n",
       "      <td>Batch1</td>\n",
       "      <td>Group1</td>\n",
       "      <td>52688.531414</td>\n",
       "      <td>0.875178</td>\n",
       "      <td>0</td>\n",
       "      <td>0</td>\n",
       "    </tr>\n",
       "    <tr>\n",
       "      <th>Cell997</th>\n",
       "      <td>Cell997</td>\n",
       "      <td>Batch1</td>\n",
       "      <td>Group1</td>\n",
       "      <td>83311.430689</td>\n",
       "      <td>1.378397</td>\n",
       "      <td>0</td>\n",
       "      <td>0</td>\n",
       "    </tr>\n",
       "    <tr>\n",
       "      <th>Cell998</th>\n",
       "      <td>Cell998</td>\n",
       "      <td>Batch1</td>\n",
       "      <td>Group1</td>\n",
       "      <td>64057.922592</td>\n",
       "      <td>1.054320</td>\n",
       "      <td>0</td>\n",
       "      <td>0</td>\n",
       "    </tr>\n",
       "    <tr>\n",
       "      <th>Cell999</th>\n",
       "      <td>Cell999</td>\n",
       "      <td>Batch1</td>\n",
       "      <td>Group1</td>\n",
       "      <td>48614.788963</td>\n",
       "      <td>0.795229</td>\n",
       "      <td>0</td>\n",
       "      <td>0</td>\n",
       "    </tr>\n",
       "    <tr>\n",
       "      <th>Cell1000</th>\n",
       "      <td>Cell1000</td>\n",
       "      <td>Batch1</td>\n",
       "      <td>Group2</td>\n",
       "      <td>69782.249026</td>\n",
       "      <td>1.138795</td>\n",
       "      <td>1</td>\n",
       "      <td>1</td>\n",
       "    </tr>\n",
       "  </tbody>\n",
       "</table>\n",
       "<p>1000 rows × 7 columns</p>\n",
       "</div>"
      ],
      "text/plain": [
       "              Cell   Batch   Group    ExpLibSize  sizeFactor  y label\n",
       "Cell1        Cell1  Batch1  Group4  64763.245660    1.064776  3     3\n",
       "Cell2        Cell2  Batch1  Group1  59122.282314    0.963867  0     0\n",
       "Cell3        Cell3  Batch1  Group3  50145.665841    0.797908  2     2\n",
       "Cell4        Cell4  Batch1  Group1  62585.354417    1.008334  0     0\n",
       "Cell5        Cell5  Batch1  Group1  65424.974461    1.053324  0     0\n",
       "...            ...     ...     ...           ...         ... ..   ...\n",
       "Cell996    Cell996  Batch1  Group1  52688.531414    0.875178  0     0\n",
       "Cell997    Cell997  Batch1  Group1  83311.430689    1.378397  0     0\n",
       "Cell998    Cell998  Batch1  Group1  64057.922592    1.054320  0     0\n",
       "Cell999    Cell999  Batch1  Group1  48614.788963    0.795229  0     0\n",
       "Cell1000  Cell1000  Batch1  Group2  69782.249026    1.138795  1     1\n",
       "\n",
       "[1000 rows x 7 columns]"
      ]
     },
     "execution_count": 16,
     "metadata": {},
     "output_type": "execute_result"
    }
   ],
   "source": [
    "sim.obs"
   ]
  },
  {
   "cell_type": "code",
   "execution_count": 17,
   "metadata": {},
   "outputs": [],
   "source": [
    "sc.pp.log1p(sim)"
   ]
  },
  {
   "cell_type": "code",
   "execution_count": 18,
   "metadata": {},
   "outputs": [
    {
     "data": {
      "text/plain": [
       "(1000, 1000)"
      ]
     },
     "execution_count": 18,
     "metadata": {},
     "output_type": "execute_result"
    }
   ],
   "source": [
    "sim.X.shape"
   ]
  },
  {
   "cell_type": "code",
   "execution_count": 19,
   "metadata": {},
   "outputs": [],
   "source": [
    "# sim.X = np.maximum(sim.X + np.random.normal(0,0.01,sim.X.shape),0)"
   ]
  },
  {
   "cell_type": "code",
   "execution_count": 20,
   "metadata": {},
   "outputs": [],
   "source": [
    "sim.write_h5ad('sim_st_2.h5ad')"
   ]
  },
  {
   "cell_type": "code",
   "execution_count": 21,
   "metadata": {},
   "outputs": [
    {
     "data": {
      "text/html": [
       "<div>\n",
       "<style scoped>\n",
       "    .dataframe tbody tr th:only-of-type {\n",
       "        vertical-align: middle;\n",
       "    }\n",
       "\n",
       "    .dataframe tbody tr th {\n",
       "        vertical-align: top;\n",
       "    }\n",
       "\n",
       "    .dataframe thead th {\n",
       "        text-align: right;\n",
       "    }\n",
       "</style>\n",
       "<table border=\"1\" class=\"dataframe\">\n",
       "  <thead>\n",
       "    <tr style=\"text-align: right;\">\n",
       "      <th></th>\n",
       "      <th>Cell</th>\n",
       "      <th>Batch</th>\n",
       "      <th>Group</th>\n",
       "      <th>ExpLibSize</th>\n",
       "      <th>sizeFactor</th>\n",
       "      <th>y</th>\n",
       "      <th>label</th>\n",
       "    </tr>\n",
       "  </thead>\n",
       "  <tbody>\n",
       "    <tr>\n",
       "      <th>0</th>\n",
       "      <td>Cell1</td>\n",
       "      <td>Batch1</td>\n",
       "      <td>Group4</td>\n",
       "      <td>64763.245660</td>\n",
       "      <td>1.064776</td>\n",
       "      <td>3</td>\n",
       "      <td>3</td>\n",
       "    </tr>\n",
       "    <tr>\n",
       "      <th>1</th>\n",
       "      <td>Cell2</td>\n",
       "      <td>Batch1</td>\n",
       "      <td>Group1</td>\n",
       "      <td>59122.282314</td>\n",
       "      <td>0.963867</td>\n",
       "      <td>0</td>\n",
       "      <td>0</td>\n",
       "    </tr>\n",
       "    <tr>\n",
       "      <th>2</th>\n",
       "      <td>Cell3</td>\n",
       "      <td>Batch1</td>\n",
       "      <td>Group3</td>\n",
       "      <td>50145.665841</td>\n",
       "      <td>0.797908</td>\n",
       "      <td>2</td>\n",
       "      <td>2</td>\n",
       "    </tr>\n",
       "    <tr>\n",
       "      <th>3</th>\n",
       "      <td>Cell4</td>\n",
       "      <td>Batch1</td>\n",
       "      <td>Group1</td>\n",
       "      <td>62585.354417</td>\n",
       "      <td>1.008334</td>\n",
       "      <td>0</td>\n",
       "      <td>0</td>\n",
       "    </tr>\n",
       "    <tr>\n",
       "      <th>4</th>\n",
       "      <td>Cell5</td>\n",
       "      <td>Batch1</td>\n",
       "      <td>Group1</td>\n",
       "      <td>65424.974461</td>\n",
       "      <td>1.053324</td>\n",
       "      <td>0</td>\n",
       "      <td>0</td>\n",
       "    </tr>\n",
       "    <tr>\n",
       "      <th>...</th>\n",
       "      <td>...</td>\n",
       "      <td>...</td>\n",
       "      <td>...</td>\n",
       "      <td>...</td>\n",
       "      <td>...</td>\n",
       "      <td>...</td>\n",
       "      <td>...</td>\n",
       "    </tr>\n",
       "    <tr>\n",
       "      <th>995</th>\n",
       "      <td>Cell996</td>\n",
       "      <td>Batch1</td>\n",
       "      <td>Group1</td>\n",
       "      <td>52688.531414</td>\n",
       "      <td>0.875178</td>\n",
       "      <td>0</td>\n",
       "      <td>0</td>\n",
       "    </tr>\n",
       "    <tr>\n",
       "      <th>996</th>\n",
       "      <td>Cell997</td>\n",
       "      <td>Batch1</td>\n",
       "      <td>Group1</td>\n",
       "      <td>83311.430689</td>\n",
       "      <td>1.378397</td>\n",
       "      <td>0</td>\n",
       "      <td>0</td>\n",
       "    </tr>\n",
       "    <tr>\n",
       "      <th>997</th>\n",
       "      <td>Cell998</td>\n",
       "      <td>Batch1</td>\n",
       "      <td>Group1</td>\n",
       "      <td>64057.922592</td>\n",
       "      <td>1.054320</td>\n",
       "      <td>0</td>\n",
       "      <td>0</td>\n",
       "    </tr>\n",
       "    <tr>\n",
       "      <th>998</th>\n",
       "      <td>Cell999</td>\n",
       "      <td>Batch1</td>\n",
       "      <td>Group1</td>\n",
       "      <td>48614.788963</td>\n",
       "      <td>0.795229</td>\n",
       "      <td>0</td>\n",
       "      <td>0</td>\n",
       "    </tr>\n",
       "    <tr>\n",
       "      <th>999</th>\n",
       "      <td>Cell1000</td>\n",
       "      <td>Batch1</td>\n",
       "      <td>Group2</td>\n",
       "      <td>69782.249026</td>\n",
       "      <td>1.138795</td>\n",
       "      <td>1</td>\n",
       "      <td>1</td>\n",
       "    </tr>\n",
       "  </tbody>\n",
       "</table>\n",
       "<p>1000 rows × 7 columns</p>\n",
       "</div>"
      ],
      "text/plain": [
       "         Cell   Batch   Group    ExpLibSize  sizeFactor  y label\n",
       "0       Cell1  Batch1  Group4  64763.245660    1.064776  3     3\n",
       "1       Cell2  Batch1  Group1  59122.282314    0.963867  0     0\n",
       "2       Cell3  Batch1  Group3  50145.665841    0.797908  2     2\n",
       "3       Cell4  Batch1  Group1  62585.354417    1.008334  0     0\n",
       "4       Cell5  Batch1  Group1  65424.974461    1.053324  0     0\n",
       "..        ...     ...     ...           ...         ... ..   ...\n",
       "995   Cell996  Batch1  Group1  52688.531414    0.875178  0     0\n",
       "996   Cell997  Batch1  Group1  83311.430689    1.378397  0     0\n",
       "997   Cell998  Batch1  Group1  64057.922592    1.054320  0     0\n",
       "998   Cell999  Batch1  Group1  48614.788963    0.795229  0     0\n",
       "999  Cell1000  Batch1  Group2  69782.249026    1.138795  1     1\n",
       "\n",
       "[1000 rows x 7 columns]"
      ]
     },
     "execution_count": 21,
     "metadata": {},
     "output_type": "execute_result"
    }
   ],
   "source": [
    "df = sim.obs\n",
    "df.reset_index(drop=True, inplace=True)\n",
    "df"
   ]
  },
  {
   "cell_type": "code",
   "execution_count": 22,
   "metadata": {},
   "outputs": [],
   "source": [
    "group1 = df[df['Group']==\"Group1\"].index.tolist()\n",
    "group2 = df[df['Group']==\"Group2\"].index.tolist()\n",
    "group3 = df[df['Group']==\"Group3\"].index.tolist()\n",
    "group4 = df[df['Group']==\"Group4\"].index.tolist()\n",
    "group5 = df[df['Group']==\"Group5\"].index.tolist()\n",
    "group6 = df[df['Group']==\"Group6\"].index.tolist()"
   ]
  },
  {
   "cell_type": "code",
   "execution_count": 23,
   "metadata": {},
   "outputs": [
    {
     "name": "stderr",
     "output_type": "stream",
     "text": [
      "/home/zhaoyubiao/miniconda3/envs/graph/lib/python3.7/site-packages/tqdm/auto.py:21: TqdmWarning: IProgress not found. Please update jupyter and ipywidgets. See https://ipywidgets.readthedocs.io/en/stable/user_install.html\n",
      "  from .autonotebook import tqdm as notebook_tqdm\n"
     ]
    }
   ],
   "source": [
    "import scanpy as sc\n",
    "from types import SimpleNamespace\n",
    "from src.data import split_function\n",
    "import torch\n",
    "import os\n",
    "os.environ[\"HDF5_USE_FILE_LOCKING\"] = \"FALSE\"\n",
    "\n",
    "\n",
    "data_path = \"data/sim2.pth\"\n",
    "\n",
    "train_ratio=0.8\n",
    "\n",
    "adata_st = sc.read('sim_st_2.h5ad')\n",
    "\n",
    "data = SimpleNamespace()\n",
    "data.x=torch.tensor(adata_st.X)\n",
    "# data.y=torch.tensor(adata_st.obsm['proportion'])\n",
    "data.y = torch.tensor(adata_st.obs['y'].values)\n",
    "\n",
    "# data.y=data.y.to(dtype=torch.float32)\n",
    "data.y=data.y.type(torch.LongTensor)\n",
    "\n",
    "data.x = data.x.type(torch.FloatTensor)\n",
    "\n",
    "data.edge_index = torch.tensor(adata_st.obsp['adjacency_matrix'].nonzero())\n",
    "data.edge_index = data.edge_index.to(dtype=torch.int64)\n",
    "\n",
    "data.num_classes=6\n",
    "data.num_features=1000\n",
    "data.num_nodes=1000\n",
    "data.name='sim2'\n",
    "data.genes=adata_st\n",
    "data.group1=group1\n",
    "data.group2=group2\n",
    "data.group3=group3\n",
    "data.group4=group4\n",
    "data.group5=group5\n",
    "data.group6=group6\n",
    "\n",
    "data.train_mask, data.val_mask, data.test_mask = split_function(\n",
    "    data.y.numpy(), train_ratio)\n",
    "\n",
    "torch.save(data, data_path)"
   ]
  }
 ],
 "metadata": {
  "kernelspec": {
   "display_name": "base",
   "language": "python",
   "name": "python3"
  },
  "language_info": {
   "codemirror_mode": {
    "name": "ipython",
    "version": 3
   },
   "file_extension": ".py",
   "mimetype": "text/x-python",
   "name": "python",
   "nbconvert_exporter": "python",
   "pygments_lexer": "ipython3",
   "version": "3.7.12"
  }
 },
 "nbformat": 4,
 "nbformat_minor": 2
}
